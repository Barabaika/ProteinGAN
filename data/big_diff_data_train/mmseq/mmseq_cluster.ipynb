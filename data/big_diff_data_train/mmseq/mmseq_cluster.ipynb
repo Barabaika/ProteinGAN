{
 "cells": [
  {
   "cell_type": "code",
   "execution_count": 1,
   "id": "70a5490b",
   "metadata": {},
   "outputs": [],
   "source": [
    "import pickle\n",
    "import subprocess\n",
    "train_path = '/mnt/10tb/home/shevtsov/diff_gan/ProteinGAN/data/big_diff_data_train/128-254.fasta'"
   ]
  },
  {
   "cell_type": "code",
   "execution_count": 4,
   "id": "284eb4bd",
   "metadata": {},
   "outputs": [
    {
     "name": "stdout",
     "output_type": "stream",
     "text": [
      "createdb /mnt/10tb/home/shevtsov/diff_gan/ProteinGAN/data/big_diff_data_train/128-254.fasta DB \n",
      "\n",
      "MMseqs Version:       \t14.7e284\n",
      "Database type         \t0\n",
      "Shuffle input database\ttrue\n",
      "Createdb mode         \t0\n",
      "Write lookup file     \t1\n",
      "Offset of numeric ids \t0\n",
      "Compressed            \t0\n",
      "Verbosity             \t3\n",
      "\n",
      "Converting sequences\n",
      "[===================================================================================================\t1 Mio. sequences processed\n",
      "===================================================================================================\t2 Mio. sequences processed\n",
      "===================================================================================================\t3 Mio. sequences processed\n",
      "===================================================================================================\t4 Mio. sequences processed\n",
      "===================================================================================================\t5 Mio. sequences processed\n",
      "===================================================================================================\t6 Mio. sequences processed\n",
      "===================================================================================================\t7 Mio. sequences processed\n",
      "===================================================================================================\t8 Mio. sequences processed\n",
      "===================================================================================================\t9 Mio. sequences processed\n",
      "===================================================================================================\t10 Mio. sequences processed\n",
      "===================================================================================================\t11 Mio. sequences processed\n",
      "===================================================================================================\t12 Mio. sequences processed\n",
      "===================================================================================================\t13 Mio. sequences processed\n",
      "===================================================================================================\t14 Mio. sequences processed\n",
      "===================================================================================================\t15 Mio. sequences processed\n",
      "===================================================================================================\t16 Mio. sequences processed\n",
      "===================================================================================================\t17 Mio. sequences processed\n",
      "===================================================================================================\t18 Mio. sequences processed\n",
      "==============================================\n",
      "Time for merging to DB_h: 0h 0m 2s 220ms\n",
      "Time for merging to DB: 0h 0m 5s 34ms\n",
      "Database type: Aminoacid\n",
      "Time for processing: 0h 0m 53s 700ms\n"
     ]
    },
    {
     "data": {
      "text/plain": [
       "0"
      ]
     },
     "execution_count": 4,
     "metadata": {},
     "output_type": "execute_result"
    }
   ],
   "source": [
    "subprocess.call(f\"mmseqs createdb {train_path} DB\", shell=True)"
   ]
  },
  {
   "cell_type": "code",
   "execution_count": 5,
   "id": "04986da7",
   "metadata": {},
   "outputs": [
    {
     "name": "stdout",
     "output_type": "stream",
     "text": [
      "Create directory tmp\n",
      "cluster DB DB_clu tmp --min-seq-id 0.7 \n",
      "\n",
      "MMseqs Version:                     \t14.7e284\n",
      "Substitution matrix                 \taa:blosum62.out,nucl:nucleotide.out\n",
      "Seed substitution matrix            \taa:VTML80.out,nucl:nucleotide.out\n",
      "Sensitivity                         \t4\n",
      "k-mer length                        \t0\n",
      "k-score                             \tseq:2147483647,prof:2147483647\n",
      "Alphabet size                       \taa:21,nucl:5\n",
      "Max sequence length                 \t65535\n",
      "Max results per query               \t20\n",
      "Split database                      \t0\n",
      "Split mode                          \t2\n",
      "Split memory limit                  \t0\n",
      "Coverage threshold                  \t0.8\n",
      "Coverage mode                       \t0\n",
      "Compositional bias                  \t1\n",
      "Compositional bias                  \t1\n",
      "Diagonal scoring                    \ttrue\n",
      "Exact k-mer matching                \t0\n",
      "Mask residues                       \t1\n",
      "Mask residues probability           \t0.9\n",
      "Mask lower case residues            \t0\n",
      "Minimum diagonal score              \t15\n",
      "Selected taxa                       \t\n",
      "Include identical seq. id.          \tfalse\n",
      "Spaced k-mers                       \t1\n",
      "Preload mode                        \t0\n",
      "Pseudo count a                      \tsubstitution:1.100,context:1.400\n",
      "Pseudo count b                      \tsubstitution:4.100,context:5.800\n",
      "Spaced k-mer pattern                \t\n",
      "Local temporary path                \t\n",
      "Threads                             \t16\n",
      "Compressed                          \t0\n",
      "Verbosity                           \t3\n",
      "Add backtrace                       \tfalse\n",
      "Alignment mode                      \t3\n",
      "Alignment mode                      \t0\n",
      "Allow wrapped scoring               \tfalse\n",
      "E-value threshold                   \t0.001\n",
      "Seq. id. threshold                  \t0.7\n",
      "Min alignment length                \t0\n",
      "Seq. id. mode                       \t0\n",
      "Alternative alignments              \t0\n",
      "Max reject                          \t2147483647\n",
      "Max accept                          \t2147483647\n",
      "Score bias                          \t0\n",
      "Realign hits                        \tfalse\n",
      "Realign score bias                  \t-0.2\n",
      "Realign max seqs                    \t2147483647\n",
      "Correlation score weight            \t0\n",
      "Gap open cost                       \taa:11,nucl:5\n",
      "Gap extension cost                  \taa:1,nucl:2\n",
      "Zdrop                               \t40\n",
      "Rescore mode                        \t0\n",
      "Remove hits by seq. id. and coverage\tfalse\n",
      "Sort results                        \t0\n",
      "Cluster mode                        \t0\n",
      "Max connected component depth       \t1000\n",
      "Similarity type                     \t2\n",
      "Single step clustering              \tfalse\n",
      "Cascaded clustering steps           \t3\n",
      "Cluster reassign                    \tfalse\n",
      "Remove temporary files              \tfalse\n",
      "Force restart with latest tmp       \tfalse\n",
      "MPI runner                          \t\n",
      "k-mers per sequence                 \t21\n",
      "Scale k-mers per sequence           \taa:0.000,nucl:0.200\n",
      "Adjust k-mer length                 \tfalse\n",
      "Shift hash                          \t67\n",
      "Include only extendable             \tfalse\n",
      "Skip repeating k-mers               \tfalse\n",
      "\n",
      "Set cluster sensitivity to -s 1.000000\n",
      "Set cluster mode SET COVER\n",
      "Set cluster iterations to 1\n",
      "linclust DB tmp/18308562191614635002/clu_redundancy tmp/18308562191614635002/linclust --cluster-mode 0 --max-iterations 1000 --similarity-type 2 --threads 16 --compressed 0 -v 3 --sub-mat 'aa:blosum62.out,nucl:nucleotide.out' -a 0 --alignment-mode 3 --alignment-output-mode 0 --wrapped-scoring 0 -e 0.001 --min-seq-id 0.7 --min-aln-len 0 --seq-id-mode 0 --alt-ali 0 -c 0.8 --cov-mode 0 --max-seq-len 65535 --comp-bias-corr 1 --comp-bias-corr-scale 1 --max-rejected 2147483647 --max-accept 2147483647 --add-self-matches 0 --db-load-mode 0 --pca substitution:1.100,context:1.400 --pcb substitution:4.100,context:5.800 --score-bias 0 --realign 0 --realign-score-bias -0.2 --realign-max-seqs 2147483647 --corr-score-weight 0 --gap-open aa:11,nucl:5 --gap-extend aa:1,nucl:2 --zdrop 40 --alph-size aa:13,nucl:5 --kmer-per-seq 21 --spaced-kmer-mode 1 --kmer-per-seq-scale aa:0.000,nucl:0.200 --adjust-kmer-len 0 --mask 0 --mask-prob 0.9 --mask-lower-case 0 -k 0 --hash-shift 67 --split-memory-limit 0 --include-only-extendable 0 --ignore-multi-kmer 0 --rescore-mode 0 --filter-hits 0 --sort-results 0 --remove-tmp-files 0 --force-reuse 0 \n",
      "\n"
     ]
    },
    {
     "name": "stdout",
     "output_type": "stream",
     "text": [
      "kmermatcher DB tmp/18308562191614635002/linclust/15300549753702370241/pref --sub-mat 'aa:blosum62.out,nucl:nucleotide.out' --alph-size aa:13,nucl:5 --min-seq-id 0.7 --kmer-per-seq 21 --spaced-kmer-mode 1 --kmer-per-seq-scale aa:0.000,nucl:0.200 --adjust-kmer-len 0 --mask 0 --mask-prob 0.9 --mask-lower-case 0 --cov-mode 0 -k 0 -c 0.8 --max-seq-len 65535 --hash-shift 67 --split-memory-limit 0 --include-only-extendable 0 --ignore-multi-kmer 0 --threads 16 --compressed 0 -v 3 \n",
      "\n",
      "kmermatcher DB tmp/18308562191614635002/linclust/15300549753702370241/pref --sub-mat 'aa:blosum62.out,nucl:nucleotide.out' --alph-size aa:13,nucl:5 --min-seq-id 0.7 --kmer-per-seq 21 --spaced-kmer-mode 1 --kmer-per-seq-scale aa:0.000,nucl:0.200 --adjust-kmer-len 0 --mask 0 --mask-prob 0.9 --mask-lower-case 0 --cov-mode 0 -k 0 -c 0.8 --max-seq-len 65535 --hash-shift 67 --split-memory-limit 0 --include-only-extendable 0 --ignore-multi-kmer 0 --threads 16 --compressed 0 -v 3 \n",
      "\n",
      "Database size: 18466614 type: Aminoacid\n",
      "Reduced amino acid alphabet: (A S T) (C) (D B N) (E Q Z) (F Y) (G) (H) (I V) (K R) (L J M) (P) (W) (X) \n",
      "\n",
      "Generate k-mers list for 1 split\n",
      "[=================================================================] 18.47M 14s 539ms\n",
      "Sort kmer 0h 0m 9s 343ms\n",
      "Sort by rep. sequence 0h 0m 2s 432ms\n",
      "Time for fill: 0h 0m 5s 865ms\n",
      "Time for merging to pref: 0h 0m 0s 0ms\n",
      "Time for processing: 0h 0m 37s 906ms\n",
      "rescorediagonal DB DB tmp/18308562191614635002/linclust/15300549753702370241/pref tmp/18308562191614635002/linclust/15300549753702370241/pref_rescore1 --sub-mat 'aa:blosum62.out,nucl:nucleotide.out' --rescore-mode 0 --wrapped-scoring 0 --filter-hits 0 -e 0.001 -c 0.8 -a 0 --cov-mode 0 --min-seq-id 0.7 --min-aln-len 0 --seq-id-mode 0 --add-self-matches 0 --sort-results 0 --db-load-mode 0 --threads 16 --compressed 0 -v 3 \n",
      "\n",
      "[================================================================] =18.47M 7s 418ms\n",
      "Time for merging to pref_rescore1: 0h 0m 6s 704ms\n",
      "Time for processing: 0h 0m 19s 137ms\n",
      "clust DB tmp/18308562191614635002/linclust/15300549753702370241/pref_rescore1 tmp/18308562191614635002/linclust/15300549753702370241/pre_clust --cluster-mode 0 --max-iterations 1000 --similarity-type 2 --threads 16 --compressed 0 -v 3 \n",
      "\n",
      "Clustering mode: Set Cover\n",
      "[=================================================================] 18.47M 1s 195ms\n",
      "Sort entries\n",
      "Find missing connections\n",
      "Found 472461 new connections.\n",
      "Reconstruct initial order\n",
      "[=================================================================] 18.47M 1s 196ms\n",
      "Add missing connections\n",
      "[=================================================================] 18.47M 0s 665ms\n",
      "\n",
      "Time for read in: 0h 0m 4s 807ms\n",
      "Total time: 0h 0m 6s 19ms\n",
      "\n",
      "Size of the sequence database: 18466614\n",
      "Size of the alignment database: 18466614\n",
      "Number of clusters: 18192424\n",
      "\n",
      "Writing results 0h 0m 2s 887ms\n",
      "Time for merging to pre_clust: 0h 0m 0s 0ms\n",
      "Time for processing: 0h 0m 10s 439ms\n",
      "createsubdb tmp/18308562191614635002/linclust/15300549753702370241/order_redundancy DB tmp/18308562191614635002/linclust/15300549753702370241/input_step_redundancy -v 3 --subdb-mode 1 \n",
      "\n",
      "Time for merging to input_step_redundancy: 0h 0m 0s 0ms\n",
      "Time for processing: 0h 0m 3s 875ms\n",
      "createsubdb tmp/18308562191614635002/linclust/15300549753702370241/order_redundancy tmp/18308562191614635002/linclust/15300549753702370241/pref tmp/18308562191614635002/linclust/15300549753702370241/pref_filter1 -v 3 --subdb-mode 1 \n",
      "\n",
      "Time for merging to pref_filter1: 0h 0m 0s 0ms\n",
      "Time for processing: 0h 0m 7s 42ms\n",
      "filterdb tmp/18308562191614635002/linclust/15300549753702370241/pref_filter1 tmp/18308562191614635002/linclust/15300549753702370241/pref_filter2 --filter-file tmp/18308562191614635002/linclust/15300549753702370241/order_redundancy --threads 16 --compressed 0 -v 3 \n",
      "\n",
      "Filtering using file(s)\n",
      "[=================================================================] 18.19M 6s 698ms\n",
      "Time for merging to pref_filter2: 0h 0m 6s 601ms\n",
      "Time for processing: 0h 0m 19s 105ms\n",
      "rescorediagonal tmp/18308562191614635002/linclust/15300549753702370241/input_step_redundancy tmp/18308562191614635002/linclust/15300549753702370241/input_step_redundancy tmp/18308562191614635002/linclust/15300549753702370241/pref_filter2 tmp/18308562191614635002/linclust/15300549753702370241/pref_rescore2 --sub-mat 'aa:blosum62.out,nucl:nucleotide.out' --rescore-mode 1 --wrapped-scoring 0 --filter-hits 1 -e 0.001 -c 0.8 -a 0 --cov-mode 0 --min-seq-id 0.7 --min-aln-len 0 --seq-id-mode 0 --add-self-matches 0 --sort-results 0 --db-load-mode 0 --threads 16 --compressed 0 -v 3 \n",
      "\n",
      "[=================================================================] 18.19M 9s 414ms\n",
      "Time for merging to pref_rescore2: 0h 0m 6s 742ms\n",
      "Time for processing: 0h 0m 18s 433ms\n",
      "align tmp/18308562191614635002/linclust/15300549753702370241/input_step_redundancy tmp/18308562191614635002/linclust/15300549753702370241/input_step_redundancy tmp/18308562191614635002/linclust/15300549753702370241/pref_rescore2 tmp/18308562191614635002/linclust/15300549753702370241/aln --sub-mat 'aa:blosum62.out,nucl:nucleotide.out' -a 0 --alignment-mode 3 --alignment-output-mode 0 --wrapped-scoring 0 -e 0.001 --min-seq-id 0.7 --min-aln-len 0 --seq-id-mode 0 --alt-ali 0 -c 0.8 --cov-mode 0 --max-seq-len 65535 --comp-bias-corr 1 --comp-bias-corr-scale 1 --max-rejected 2147483647 --max-accept 2147483647 --add-self-matches 0 --db-load-mode 0 --pca substitution:1.100,context:1.400 --pcb substitution:4.100,context:5.800 --score-bias 0 --realign 0 --realign-score-bias -0.2 --realign-max-seqs 2147483647 --corr-score-weight 0 --gap-open aa:11,nucl:5 --gap-extend aa:1,nucl:2 --zdrop 40 --threads 16 --compressed 0 -v 3 \n",
      "\n",
      "Compute score, coverage and sequence identity\n",
      "Query database size: 18192424 type: Aminoacid\n",
      "Target database size: 18192424 type: Aminoacid\n",
      "Calculation of alignments\n",
      "[=================================================================] 18.19M 1m 43s 709ms\n",
      "Time for merging to aln: 0h 0m 7s 120ms\n",
      "23094918 alignments calculated\n",
      "18282574 sequence pairs passed the thresholds (0.791628 of overall calculated)\n",
      "1.004955 hits per query sequence\n",
      "Time for processing: 0h 1m 53s 423ms\n",
      "clust tmp/18308562191614635002/linclust/15300549753702370241/input_step_redundancy tmp/18308562191614635002/linclust/15300549753702370241/aln tmp/18308562191614635002/linclust/15300549753702370241/clust --cluster-mode 0 --max-iterations 1000 --similarity-type 2 --threads 16 --compressed 0 -v 3 \n",
      "\n",
      "Clustering mode: Set Cover\n",
      "[=================================================================] 18.19M 1s 638ms\n",
      "Sort entries\n",
      "Find missing connections\n",
      "Found 90150 new connections.\n",
      "Reconstruct initial order\n",
      "[=================================================================] 18.19M 1s 704ms\n",
      "Add missing connections\n",
      "[=================================================================] 18.19M 0s 525ms\n",
      "\n",
      "Time for read in: 0h 0m 5s 762ms\n",
      "Total time: 0h 0m 6s 818ms\n",
      "\n",
      "Size of the sequence database: 18192424\n",
      "Size of the alignment database: 18192424\n",
      "Number of clusters: 18109520\n",
      "\n",
      "Writing results 0h 0m 2s 776ms\n",
      "Time for merging to clust: 0h 0m 0s 0ms\n",
      "Time for processing: 0h 0m 11s 76ms\n",
      "mergeclusters DB tmp/18308562191614635002/clu_redundancy tmp/18308562191614635002/linclust/15300549753702370241/pre_clust tmp/18308562191614635002/linclust/15300549753702370241/clust --threads 16 --compressed 0 -v 3 \n",
      "\n",
      "Clustering step 1\n",
      "[=================================================================] 18.19M 2s 95ms\n",
      "Clustering step 2\n",
      "[=================================================================] 18.11M 4s 270ms\n",
      "Write merged clustering\n",
      "[=================================================================] 18.47M 5s 862ms\n",
      "Time for merging to clu_redundancy: 0h 0m 6s 841ms\n",
      "Time for processing: 0h 0m 14s 437ms\n",
      "createsubdb tmp/18308562191614635002/clu_redundancy DB tmp/18308562191614635002/input_step_redundancy -v 3 --subdb-mode 1 \n",
      "\n",
      "Time for merging to input_step_redundancy: 0h 0m 0s 0ms\n",
      "Time for processing: 0h 0m 4s 56ms\n",
      "prefilter tmp/18308562191614635002/input_step_redundancy tmp/18308562191614635002/input_step_redundancy tmp/18308562191614635002/pref_step0 --sub-mat 'aa:blosum62.out,nucl:nucleotide.out' --seed-sub-mat 'aa:VTML80.out,nucl:nucleotide.out' -s 1 -k 0 --k-score seq:2147483647,prof:2147483647 --alph-size aa:21,nucl:5 --max-seq-len 65535 --max-seqs 20 --split 0 --split-mode 2 --split-memory-limit 0 -c 0.8 --cov-mode 0 --comp-bias-corr 0 --comp-bias-corr-scale 1 --diag-score 0 --exact-kmer-matching 0 --mask 1 --mask-prob 0.9 --mask-lower-case 0 --min-ungapped-score 0 --add-self-matches 0 --spaced-kmer-mode 1 --db-load-mode 0 --pca substitution:1.100,context:1.400 --pcb substitution:4.100,context:5.800 --threads 16 --compressed 0 -v 3 \n",
      "\n",
      "Query database size: 18109520 type: Aminoacid\n",
      "Estimated memory consumption: 36G\n",
      "Target database size: 18109520 type: Aminoacid\n",
      "Index table k-mer threshold: 154 at k-mer size 6 \n",
      "Index table: counting k-mers\n",
      "[=================================================================] 18.11M 1m 16s 918ms\n",
      "Index table: Masked residues: 70666950\n",
      "Index table: fill\n",
      "[=================================================================] 18.11M 50s 669ms\n",
      "Index statistics\n",
      "Entries:          1433835665\n",
      "DB size:          8692 MB\n",
      "Avg k-mer size:   22.403682\n",
      "Top 10 k-mers\n",
      "    GPGGTL\t17463\n",
      "    NNSWPP\t9524\n",
      "    VEGGWT\t8833\n",
      "    FPMNFW\t8394\n",
      "    MAPMMS\t8120\n",
      "    MPMGGN\t7487\n",
      "    NMFLPS\t6851\n",
      "    PIIGNW\t6593\n",
      "    ELKTFW\t6277\n",
      "    LGPMPR\t6042\n",
      "Time for index table init: 0h 2m 10s 925ms\n",
      "Process prefiltering step 1 of 1\n",
      "\n",
      "k-mer similarity threshold: 154\n",
      "Starting prefiltering scores calculation (step 1 of 1)\n",
      "Query db start 1 to 18109520\n",
      "Target db start 1 to 18109520\n",
      "[=================================================================] 18.11M 7m 51s 521ms\n",
      "\n",
      "1.976211 k-mers per position\n",
      "10927 DB matches per sequence\n",
      "0 overflows\n",
      "0 queries produce too many hits (truncated result)\n",
      "19 sequences passed prefiltering per query sequence\n",
      "20 median result list length\n",
      "0 sequences with 0 size result lists\n",
      "Time for merging to pref_step0: 0h 0m 7s 84ms\n",
      "Time for processing: 0h 10m 13s 819ms\n",
      "align tmp/18308562191614635002/input_step_redundancy tmp/18308562191614635002/input_step_redundancy tmp/18308562191614635002/pref_step0 tmp/18308562191614635002/aln_step0 --sub-mat 'aa:blosum62.out,nucl:nucleotide.out' -a 0 --alignment-mode 3 --alignment-output-mode 0 --wrapped-scoring 0 -e 0.001 --min-seq-id 0.7 --min-aln-len 0 --seq-id-mode 0 --alt-ali 0 -c 0.8 --cov-mode 0 --max-seq-len 65535 --comp-bias-corr 0 --comp-bias-corr-scale 1 --max-rejected 2147483647 --max-accept 2147483647 --add-self-matches 0 --db-load-mode 0 --pca substitution:1.100,context:1.400 --pcb substitution:4.100,context:5.800 --score-bias 0 --realign 0 --realign-score-bias -0.2 --realign-max-seqs 2147483647 --corr-score-weight 0 --gap-open aa:11,nucl:5 --gap-extend aa:1,nucl:2 --zdrop 40 --threads 16 --compressed 0 -v 3 \n",
      "\n",
      "Compute score, coverage and sequence identity\n",
      "Query database size: 18109520 type: Aminoacid\n",
      "Target database size: 18109520 type: Aminoacid\n",
      "Calculation of alignments\n",
      "[=================================================================] 18.11M 12m 41s 331ms\n",
      "Time for merging to aln_step0: 0h 0m 6s 928ms\n",
      "224307933 alignments calculated\n",
      "18772216 sequence pairs passed the thresholds (0.083689 of overall calculated)\n",
      "1.036594 hits per query sequence\n",
      "Time for processing: 0h 12m 50s 701ms\n",
      "clust tmp/18308562191614635002/input_step_redundancy tmp/18308562191614635002/aln_step0 tmp/18308562191614635002/clu_step0 --cluster-mode 0 --max-iterations 1000 --similarity-type 2 --threads 16 --compressed 0 -v 3 \n",
      "\n",
      "Clustering mode: Set Cover\n",
      "[=================================================================] 18.11M 1s 758ms\n",
      "Sort entries\n",
      "Find missing connections\n",
      "Found 327052 new connections.\n",
      "Reconstruct initial order\n",
      "[=================================================================] 18.11M 1s 893ms\n",
      "Add missing connections\n",
      "[=================================================================] 18.11M 0s 665ms\n",
      "\n",
      "Time for read in: 0h 0m 6s 183ms\n",
      "Total time: 0h 0m 7s 352ms\n",
      "\n",
      "Size of the sequence database: 18109520\n",
      "Size of the alignment database: 18109520\n",
      "Number of clusters: 17989847\n",
      "\n",
      "Writing results 0h 0m 2s 789ms\n",
      "Time for merging to clu_step0: 0h 0m 0s 0ms\n",
      "Time for processing: 0h 0m 11s 690ms\n",
      "mergeclusters DB DB_clu tmp/18308562191614635002/clu_redundancy tmp/18308562191614635002/clu_step0 --threads 16 --compressed 0 -v 3 \n",
      "\n",
      "Clustering step 1\n",
      "[=================================================================] 18.11M 2s 442ms\n",
      "Clustering step 2\n",
      "[=================================================================] 17.99M 4s 651ms\n",
      "Write merged clustering\n",
      "[=================================================================] 18.47M 6s 263ms\n",
      "Time for merging to DB_clu: 0h 0m 6s 654ms\n",
      "Time for processing: 0h 0m 15s 578ms\n"
     ]
    },
    {
     "data": {
      "text/plain": [
       "0"
      ]
     },
     "execution_count": 5,
     "metadata": {},
     "output_type": "execute_result"
    }
   ],
   "source": [
    "subprocess.call(f\"mmseqs cluster DB DB_clu tmp --min-seq-id 0.7\", shell=True)"
   ]
  },
  {
   "cell_type": "code",
   "execution_count": 6,
   "id": "ee2d36e0",
   "metadata": {},
   "outputs": [
    {
     "name": "stdout",
     "output_type": "stream",
     "text": [
      "createtsv DB DB DB_clu DB_clu.tsv \n",
      "\n",
      "MMseqs Version:                 \t14.7e284\n",
      "First sequence as representative\tfalse\n",
      "Target column                   \t1\n",
      "Add full header                 \tfalse\n",
      "Sequence source                 \t0\n",
      "Database output                 \tfalse\n",
      "Threads                         \t16\n",
      "Compressed                      \t0\n",
      "Verbosity                       \t3\n",
      "\n",
      "Time for merging to DB_clu.tsv: 0h 0m 7s 685ms\n",
      "Time for processing: 0h 0m 12s 148ms\n"
     ]
    },
    {
     "data": {
      "text/plain": [
       "0"
      ]
     },
     "execution_count": 6,
     "metadata": {},
     "output_type": "execute_result"
    }
   ],
   "source": [
    "subprocess.call(f\"mmseqs createtsv DB DB DB_clu DB_clu.tsv\", shell=True)"
   ]
  },
  {
   "attachments": {},
   "cell_type": "markdown",
   "id": "8275d820",
   "metadata": {},
   "source": [
    "Берем для val_set 20% из тех кластеров у которых 3 или меньше последовательностей. Как и делали в статье"
   ]
  },
  {
   "cell_type": "code",
   "execution_count": 1,
   "id": "6867b61f",
   "metadata": {},
   "outputs": [],
   "source": [
    "import numpy as np\n",
    "import pandas as pd\n",
    "SEED =42\n",
    "np.random.seed(SEED)\n",
    "\n",
    "clutser_df = pd.read_table('DB_clu.tsv', header = None)\n",
    "\n",
    "clusters_count = pd.DataFrame(clutser_df[0].value_counts())\n",
    "less_3_count_clusters_list = clusters_count[clusters_count[0] <= 3].index.to_numpy()\n",
    "\n",
    "val_clusters = np.random.choice(less_3_count_clusters_list, int(len(less_3_count_clusters_list)*0.01), replace = False)\n",
    "val_cluster_df = clutser_df[clutser_df[0].isin(val_clusters)]"
   ]
  },
  {
   "cell_type": "code",
   "execution_count": 2,
   "id": "80cedaab",
   "metadata": {},
   "outputs": [],
   "source": [
    "split_df = pd.DataFrame({'seq_id':clutser_df[1]})\n",
    "split_df['fold'] = None\n",
    "\n",
    "# split_df['fold'] = split_df['fold'].apply(lambda x: 'val' if x in val_ids else 'train')\n",
    "split_df.loc[split_df.seq_id.isin(val_cluster_df[1]), 'fold'] = 'val'\n",
    "split_df.loc[split_df.fold != 'val', 'fold'] = 'train'"
   ]
  },
  {
   "cell_type": "code",
   "execution_count": 3,
   "id": "16c867b7",
   "metadata": {},
   "outputs": [
    {
     "data": {
      "text/plain": [
       "((182475, 2), (18284139, 2))"
      ]
     },
     "execution_count": 3,
     "metadata": {},
     "output_type": "execute_result"
    }
   ],
   "source": [
    "split_df[split_df.fold == 'val'].shape, split_df[split_df.fold == 'train'].shape"
   ]
  },
  {
   "cell_type": "code",
   "execution_count": 4,
   "id": "751efcef",
   "metadata": {},
   "outputs": [],
   "source": [
    "split_df[split_df.fold == 'val']['seq_id'].to_csv('valid_ids.txt', index = False, header=False)\n",
    "split_df[split_df.fold == 'train']['seq_id'].to_csv('train_ids.txt', index = False, header=False)"
   ]
  },
  {
   "cell_type": "code",
   "execution_count": 5,
   "id": "950d9298",
   "metadata": {},
   "outputs": [],
   "source": [
    "import os\n",
    "os.chdir('../')"
   ]
  },
  {
   "cell_type": "code",
   "execution_count": 6,
   "id": "6a088c6c",
   "metadata": {},
   "outputs": [],
   "source": [
    "!awk '{ if ((NR>1)&&($0~/^>/)) { printf(\"\\n%s\", $0); } else if (NR==1) { printf(\"%s\", $0); } else { printf(\"\\t%s\", $0); } }' 128-254.fasta | grep -Ff mmseq/valid_ids.txt - | tr \"\\t\" \"\\n\" > valid.fasta\n",
    "!awk '{ if ((NR>1)&&($0~/^>/)) { printf(\"\\n%s\", $0); } else if (NR==1) { printf(\"%s\", $0); } else { printf(\"\\t%s\", $0); } }' 128-254.fasta | grep -vFf mmseq/valid_ids.txt - | tr \"\\t\" \"\\n\" > train.fasta"
   ]
  },
  {
   "cell_type": "code",
   "execution_count": 7,
   "id": "3f0a5eee",
   "metadata": {},
   "outputs": [
    {
     "name": "stdout",
     "output_type": "stream",
     "text": [
      "  36568270 train_try.fasta\n",
      "    364958 valid_try.fasta\n",
      "  36933228 total\n"
     ]
    }
   ],
   "source": [
    "!wc -l train_try.fasta valid_try.fasta"
   ]
  },
  {
   "cell_type": "code",
   "execution_count": 8,
   "id": "290b7c4c",
   "metadata": {},
   "outputs": [
    {
     "data": {
      "text/plain": [
       "(364950, 36568278)"
      ]
     },
     "execution_count": 8,
     "metadata": {},
     "output_type": "execute_result"
    }
   ],
   "source": [
    "split_df[split_df.fold == 'val'].shape[0]*2, split_df[split_df.fold == 'train'].shape[0]*2"
   ]
  },
  {
   "cell_type": "code",
   "execution_count": null,
   "id": "4fc23e23",
   "metadata": {},
   "outputs": [],
   "source": []
  }
 ],
 "metadata": {
  "kernelspec": {
   "display_name": "a1_env",
   "language": "python",
   "name": "python3"
  },
  "language_info": {
   "codemirror_mode": {
    "name": "ipython",
    "version": 3
   },
   "file_extension": ".py",
   "mimetype": "text/x-python",
   "name": "python",
   "nbconvert_exporter": "python",
   "pygments_lexer": "ipython3",
   "version": "3.9.16"
  }
 },
 "nbformat": 4,
 "nbformat_minor": 5
}
